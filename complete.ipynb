{
 "cells": [
  {
   "cell_type": "code",
   "execution_count": 1,
   "metadata": {},
   "outputs": [],
   "source": [
    "# import packages\n",
    "\n",
    "import numpy as np\n",
    "import pandas as pd\n",
    "import matplotlib.pyplot as plt\n",
    "import seaborn as sns\n",
    "from sklearn.model_selection import cross_val_score, GridSearchCV\n",
    "from sklearn.base import BaseEstimator, ClassifierMixin\n",
    "from sklearn import tree\n",
    "\n",
    "np.random.seed(42)"
   ]
  },
  {
   "cell_type": "code",
   "execution_count": 2,
   "metadata": {},
   "outputs": [],
   "source": [
    "# read input files\n",
    "\n",
    "df_train = pd.read_csv('train.csv')\n",
    "df_test = pd.read_csv('test.csv')"
   ]
  },
  {
   "cell_type": "code",
   "execution_count": 3,
   "metadata": {},
   "outputs": [
    {
     "name": "stdout",
     "output_type": "stream",
     "text": [
      "No duplicated Id? True\n"
     ]
    }
   ],
   "source": [
    "# check duplicated PassengerId\n",
    "\n",
    "id_unique = len(set(df_train.PassengerId))\n",
    "id_count = df_train.PassengerId.shape[0]\n",
    "print('No duplicated Id?', id_unique == id_count)"
   ]
  },
  {
   "cell_type": "code",
   "execution_count": 4,
   "metadata": {},
   "outputs": [],
   "source": [
    "# import modules from local directory\n",
    "\n",
    "import sys\n",
    "sys.path.append('..\\\\modules')\n",
    "from uzila_func import pre_process as pr"
   ]
  },
  {
   "cell_type": "code",
   "execution_count": 5,
   "metadata": {},
   "outputs": [
    {
     "name": "stdout",
     "output_type": "stream",
     "text": [
      "         miss_train            miss_test           \n",
      "              Total Percentage     Total Percentage\n",
      "Cabin         687.0  77.104377     327.0  78.229665\n",
      "Age           177.0  19.865320      86.0  20.574163\n",
      "Embarked        2.0   0.224467       NaN        NaN\n",
      "Fare            NaN        NaN       1.0   0.239234\n"
     ]
    }
   ],
   "source": [
    "# look for missing values\n",
    "\n",
    "missing_values = pr.TableMissVal(df_train, df_test)"
   ]
  },
  {
   "cell_type": "code",
   "execution_count": 6,
   "metadata": {},
   "outputs": [],
   "source": [
    "# fill missing cabins with new category\n",
    "\n",
    "df_train.Cabin.fillna('X0', inplace=True)\n",
    "df_test.Cabin.fillna('X0', inplace=True)"
   ]
  },
  {
   "cell_type": "code",
   "execution_count": 7,
   "metadata": {
    "scrolled": false
   },
   "outputs": [],
   "source": [
    "# get titles and surnames from names, then drop names\n",
    "\n",
    "def ExtractName(df):\n",
    "    df['Title'] = df.Name.map(lambda x: x.split(',')[1].split('.')[0].strip())\n",
    "    df['Surname'] = df.Name.map(lambda x: x.split(',')[0].strip())\n",
    "    df.drop('Name', axis=1, inplace=True)\n",
    "\n",
    "ExtractName(df_train)\n",
    "ExtractName(df_test)"
   ]
  },
  {
   "cell_type": "code",
   "execution_count": 8,
   "metadata": {
    "scrolled": true
   },
   "outputs": [
    {
     "name": "stdout",
     "output_type": "stream",
     "text": [
      "{'Mr': 30.0, 'Mrs': 35.0, 'Miss': 21.0, 'Master': 3.5, 'Don': 40.0, 'Rev': 46.5, 'Dr': 46.5, 'Mme': 24.0, 'Ms': 28.0, 'Major': 48.5, 'Lady': 48.0, 'Sir': 49.0, 'Mlle': 24.0, 'Col': 58.0, 'Capt': 70.0, 'the Countess': 33.0, 'Jonkheer': 38.0}\n"
     ]
    }
   ],
   "source": [
    "# fill missing ages based on title\n",
    "\n",
    "titles = df_train['Title'].unique()\n",
    "age_median_per_title = dict()\n",
    "\n",
    "for t in titles:\n",
    "    age_median_per_title[t] = df_train.loc[df_train.Title==t, 'Age'].median()\n",
    "\n",
    "print(age_median_per_title)\n",
    "\n",
    "def FillAge(df):\n",
    "    df.Age.fillna(-1, inplace=True)\n",
    "    for index, row in df.iterrows():\n",
    "        if row['Age']==-1:\n",
    "            df.loc[index, 'Age'] = age_median_per_title[row['Title']]\n",
    "            \n",
    "FillAge(df_train)\n",
    "FillAge(df_test)"
   ]
  },
  {
   "cell_type": "code",
   "execution_count": 9,
   "metadata": {},
   "outputs": [],
   "source": [
    "# fill missing embarkeds with mode\n",
    "\n",
    "df_train['Embarked'].fillna('S', inplace=True)\n",
    "df_test['Embarked'].fillna('S', inplace=True)"
   ]
  },
  {
   "cell_type": "code",
   "execution_count": 10,
   "metadata": {
    "scrolled": true
   },
   "outputs": [
    {
     "name": "stdout",
     "output_type": "stream",
     "text": [
      "{3: 8.05, 1: 60.287499999999994, 2: 14.25}\n"
     ]
    }
   ],
   "source": [
    "# fill missing fares based on pclass\n",
    "\n",
    "pclass = df_train['Pclass'].unique()\n",
    "fare_median_per_pclass = dict()\n",
    "\n",
    "for c in pclass:\n",
    "    fare_median_per_pclass[c] = df_train.loc[df_train.Pclass==c, 'Fare'].median()\n",
    "\n",
    "print(fare_median_per_pclass)\n",
    "\n",
    "def FillFare(df):\n",
    "    df.Fare.fillna(-1, inplace=True)\n",
    "    for index, row in df.iterrows():\n",
    "        if row['Fare']==-1:\n",
    "            df.loc[index, 'Fare'] = fare_median_per_pclass[row['Pclass']]\n",
    "            \n",
    "FillFare(df_train)\n",
    "FillFare(df_test)"
   ]
  },
  {
   "cell_type": "code",
   "execution_count": 11,
   "metadata": {
    "scrolled": true
   },
   "outputs": [
    {
     "name": "stdout",
     "output_type": "stream",
     "text": [
      "Empty DataFrame\n",
      "Columns: [(miss_train, Total), (miss_train, Percentage), (miss_test, Total), (miss_test, Percentage)]\n",
      "Index: []\n"
     ]
    }
   ],
   "source": [
    "# check missing values\n",
    "\n",
    "missing_values = pr.TableMissVal(df_train, df_test)"
   ]
  },
  {
   "cell_type": "markdown",
   "metadata": {},
   "source": [
    "### 1. Gender Classifier"
   ]
  },
  {
   "cell_type": "code",
   "execution_count": 12,
   "metadata": {
    "scrolled": true
   },
   "outputs": [
    {
     "name": "stdout",
     "output_type": "stream",
     "text": [
      "Survival on sex:\n",
      " Sex     Survived\n",
      "female  0            81\n",
      "        1           233\n",
      "male    0           468\n",
      "        1           109\n",
      "Name: Survived, dtype: int64\n"
     ]
    }
   ],
   "source": [
    "# group survival based on gender\n",
    "\n",
    "print('Survival on sex:\\n', df_train.groupby(['Sex', 'Survived']).Survived.count())"
   ]
  },
  {
   "cell_type": "markdown",
   "metadata": {},
   "source": [
    "Predict dead on male, survive on female."
   ]
  },
  {
   "cell_type": "code",
   "execution_count": 13,
   "metadata": {},
   "outputs": [],
   "source": [
    "# make the estimator\n",
    "\n",
    "class GenderClassifier(BaseEstimator, ClassifierMixin):\n",
    "    def __init__(self):\n",
    "        pass\n",
    "    def fit(self, X, y=None):\n",
    "        return self\n",
    "    def _replacement(self, x):\n",
    "        if x=='male': return 0\n",
    "        if x=='female': return 1\n",
    "    def predict(self, X, y=None):\n",
    "        return([self._replacement(x) for x in X['Sex']])"
   ]
  },
  {
   "cell_type": "code",
   "execution_count": 14,
   "metadata": {},
   "outputs": [
    {
     "name": "stdout",
     "output_type": "stream",
     "text": [
      "CV score: 0.7867150249291879\n"
     ]
    }
   ],
   "source": [
    "# predict all male dead, all female survived\n",
    "\n",
    "sex_clf = GenderClassifier()\n",
    "cv_score = cross_val_score(sex_clf, df_train, df_train['Survived'], scoring='accuracy', cv=5).mean()\n",
    "print('CV score:', cv_score)"
   ]
  },
  {
   "cell_type": "code",
   "execution_count": 15,
   "metadata": {},
   "outputs": [
    {
     "name": "stdout",
     "output_type": "stream",
     "text": [
      "LB score: 0.76555\n"
     ]
    }
   ],
   "source": [
    "# export the output\n",
    "\n",
    "sex_clf.fit(df_train, df_train['Survived'])\n",
    "y_test = sex_clf.predict(df_test)\n",
    "output = pd.DataFrame({'PassengerId':df_test.PassengerId, 'Survived':y_test})\n",
    "output.to_csv('gender.csv', index=False)\n",
    "print('LB score: 0.76555')"
   ]
  },
  {
   "cell_type": "markdown",
   "metadata": {},
   "source": [
    "### 2. Master & Female"
   ]
  },
  {
   "cell_type": "markdown",
   "metadata": {},
   "source": [
    "Which males survived and which females didn't?"
   ]
  },
  {
   "cell_type": "code",
   "execution_count": 16,
   "metadata": {},
   "outputs": [],
   "source": [
    "# separate male & female for preprocessing\n",
    "\n",
    "df_male = df_train[df_train['Sex']=='male']\n",
    "df_female = df_train[df_train['Sex']=='female']"
   ]
  },
  {
   "cell_type": "code",
   "execution_count": 17,
   "metadata": {
    "scrolled": true
   },
   "outputs": [
    {
     "name": "stdout",
     "output_type": "stream",
     "text": [
      "[ 0.  5. 10. 15. 20. 25. 30. 35. 40. 45. 50. 55. 60. 65. 70. 75. 80.]\n",
      "Index(['PassengerId', 'Survived', 'Pclass', 'Sex', 'Age', 'SibSp', 'Parch',\n",
      "       'Ticket', 'Fare', 'Cabin', 'Embarked', 'Title', 'Surname', 'Age_range'],\n",
      "      dtype='object')\n",
      "Index(['PassengerId', 'Survived', 'Pclass', 'Sex', 'Age', 'SibSp', 'Parch',\n",
      "       'Ticket', 'Fare', 'Cabin', 'Embarked', 'Title', 'Surname', 'Age_range'],\n",
      "      dtype='object')\n"
     ]
    }
   ],
   "source": [
    "# categorize age with 5 year bin size\n",
    "\n",
    "bins = np.linspace(0, 80, 17)\n",
    "print(bins)\n",
    "\n",
    "def CateAge(df):\n",
    "    age_range = pd.cut(df.Age, bins)\n",
    "    age_range = age_range.to_frame()\n",
    "    age_range.columns = ['Age_range']\n",
    "    df = pd.concat([df, age_range], axis = 1)\n",
    "    return df\n",
    "\n",
    "df_male = CateAge(df_male)\n",
    "df_female = CateAge(df_female)\n",
    "\n",
    "print(df_male.columns)\n",
    "print(df_female.columns)"
   ]
  },
  {
   "cell_type": "code",
   "execution_count": 18,
   "metadata": {},
   "outputs": [
    {
     "data": {
      "image/png": "[encoded data removed]",
      "text/plain": [
       "<Figure size 432x288 with 1 Axes>"
      ]
     },
     "metadata": {
      "needs_background": "light"
     },
     "output_type": "display_data"
    },
    {
     "data": {
      "image/png": "[encoded data removed]",
      "text/plain": [
       "<Figure size 432x288 with 1 Axes>"
      ]
     },
     "metadata": {
      "needs_background": "light"
     },
     "output_type": "display_data"
    },
    {
     "data": {
      "image/png": "[encoded data removed]",
      "text/plain": [
       "<Figure size 432x288 with 1 Axes>"
      ]
     },
     "metadata": {
      "needs_background": "light"
     },
     "output_type": "display_data"
    },
    {
     "data": {
      "image/png": "[encoded data removed]",
      "text/plain": [
       "<Figure size 432x288 with 1 Axes>"
      ]
     },
     "metadata": {
      "needs_background": "light"
     },
     "output_type": "display_data"
    },
    {
     "data": {
      "image/png": "[encoded data removed]",
      "text/plain": [
       "<Figure size 432x288 with 1 Axes>"
      ]
     },
     "metadata": {
      "needs_background": "light"
     },
     "output_type": "display_data"
    },
    {
     "data": {
      "image/png": "[encoded data removed]",
      "text/plain": [
       "<Figure size 432x288 with 1 Axes>"
      ]
     },
     "metadata": {
      "needs_background": "light"
     },
     "output_type": "display_data"
    },
    {
     "data": {
      "image/png": "[encoded data removed]",
      "text/plain": [
       "<Figure size 432x288 with 1 Axes>"
      ]
     },
     "metadata": {
      "needs_background": "light"
     },
     "output_type": "display_data"
    },
    {
     "data": {
      "image/png": "[encoded data removed]",
      "text/plain": [
       "<Figure size 432x288 with 1 Axes>"
      ]
     },
     "metadata": {
      "needs_background": "light"
     },
     "output_type": "display_data"
    }
   ],
   "source": [
    "# plot categorical features of df_male based on survival\n",
    "\n",
    "cate = ['Survived', 'Pclass', 'Sex', 'SibSp', 'Parch', 'Embarked', 'Title', 'Age_range']\n",
    "for col in cate:\n",
    "    sns.countplot(df_male[col], hue=df_male['Survived'])\n",
    "    plt.xticks(rotation=45)\n",
    "    plt.title('Male')\n",
    "    plt.show()"
   ]
  },
  {
   "cell_type": "code",
   "execution_count": 19,
   "metadata": {},
   "outputs": [
    {
     "data": {
      "image/png": "[encoded data removed]",
      "text/plain": [
       "<Figure size 432x288 with 1 Axes>"
      ]
     },
     "metadata": {
      "needs_background": "light"
     },
     "output_type": "display_data"
    },
    {
     "data": {
      "image/png": "[encoded data removed]",
      "text/plain": [
       "<Figure size 432x288 with 1 Axes>"
      ]
     },
     "metadata": {
      "needs_background": "light"
     },
     "output_type": "display_data"
    },
    {
     "data": {
      "image/png": "[encoded data removed]",
      "text/plain": [
       "<Figure size 432x288 with 1 Axes>"
      ]
     },
     "metadata": {
      "needs_background": "light"
     },
     "output_type": "display_data"
    },
    {
     "data": {
      "image/png": "[encoded data removed]",
      "text/plain": [
       "<Figure size 432x288 with 1 Axes>"
      ]
     },
     "metadata": {
      "needs_background": "light"
     },
     "output_type": "display_data"
    },
    {
     "data": {
      "image/png": "[encoded data removed]",
      "text/plain": [
       "<Figure size 432x288 with 1 Axes>"
      ]
     },
     "metadata": {
      "needs_background": "light"
     },
     "output_type": "display_data"
    },
    {
     "data": {
      "image/png": "[encoded data removed]",
      "text/plain": [
       "<Figure size 432x288 with 1 Axes>"
      ]
     },
     "metadata": {
      "needs_background": "light"
     },
     "output_type": "display_data"
    },
    {
     "data": {
      "image/png": "[encoded data removed]",
      "text/plain": [
       "<Figure size 432x288 with 1 Axes>"
      ]
     },
     "metadata": {
      "needs_background": "light"
     },
     "output_type": "display_data"
    },
    {
     "data": {
      "image/png": "[encoded data removed]",
      "text/plain": [
       "<Figure size 432x288 with 1 Axes>"
      ]
     },
     "metadata": {
      "needs_background": "light"
     },
     "output_type": "display_data"
    }
   ],
   "source": [
    "# plot categorical features of df_female based on survival\n",
    "\n",
    "for col in cate:\n",
    "    sns.countplot(df_female[col], hue=df_female['Survived'])\n",
    "    plt.xticks(rotation=45)\n",
    "    plt.title('Female')\n",
    "    plt.show()"
   ]
  },
  {
   "cell_type": "code",
   "execution_count": 20,
   "metadata": {
    "scrolled": true
   },
   "outputs": [
    {
     "data": {
      "text/plain": [
       "12.0"
      ]
     },
     "execution_count": 20,
     "metadata": {},
     "output_type": "execute_result"
    }
   ],
   "source": [
    "# focus on Master\n",
    "\n",
    "df_train[df_train['Title']=='Master'].Age.max()"
   ]
  },
  {
   "cell_type": "markdown",
   "metadata": {},
   "source": [
    "Seems that:\n",
    "* 0-15 years old males tend to survive\n",
    "* pclass 3 females tend to die\n",
    "\n",
    "Woman and children were prioritized in rescue?\n",
    "\n",
    "Since maximum age for 'Master' is 12 years old, all of them are included in 0-15 years old males range. Hence, let's focus on 'Master' and 'female', and their relations."
   ]
  },
  {
   "cell_type": "code",
   "execution_count": 21,
   "metadata": {
    "scrolled": true
   },
   "outputs": [
    {
     "name": "stdout",
     "output_type": "stream",
     "text": [
      "Family who all survived      : ['Baclini', 'Becker', 'Brown', 'Caldwell', 'Collyer', 'Coutts', 'Doling', 'Fortune', 'Goldsmith', 'Graham', 'Hamalainen', 'Harper', 'Hart', 'Hays', 'Herman', 'Hippach', 'Johnson', 'Kelly', 'Laroche', 'Mellinger', 'Moor', 'Moubarek', 'Murphy', 'Navratil', 'Newell', 'Nicola-Yarred', 'Peter', 'Quick', 'Richards', 'Ryerson', 'Sandstrom', 'Taussig', 'West', 'Wick'] \n",
      "\n",
      "Family who are all dead      : ['Barbara', 'Boulos', 'Bourke', 'Ford', 'Goodwin', 'Jussila', 'Lefebre', 'Palsson', 'Panula', 'Rice', 'Sage', 'Skoog', 'Strom', 'Van Impe', 'Vander Planke', 'Zabour'] \n",
      "\n",
      "Family both survived and dead: ['Allison', 'Andersson', 'Asplund', 'Carter'] \n",
      "\n",
      "     Survived     Sex   Title    Surname\n",
      "68          1  female    Miss  Andersson\n",
      "119         0  female    Miss  Andersson\n",
      "541         0  female    Miss  Andersson\n",
      "542         0  female    Miss  Andersson\n",
      "610         0  female     Mrs  Andersson\n",
      "813         0  female    Miss  Andersson\n",
      "850         0    male  Master  Andersson\n",
      "     Survived     Sex   Title  Surname\n",
      "25          1  female     Mrs  Asplund\n",
      "182         0    male  Master  Asplund\n",
      "233         1  female    Miss  Asplund\n",
      "261         1    male  Master  Asplund\n",
      "     Survived     Sex   Title Surname\n",
      "435         1  female    Miss  Carter\n",
      "763         1  female     Mrs  Carter\n",
      "802         1    male  Master  Carter\n",
      "854         0  female     Mrs  Carter\n",
      "     Survived     Sex   Title  Surname\n",
      "297         0  female    Miss  Allison\n",
      "305         1    male  Master  Allison\n",
      "498         0  female     Mrs  Allison\n"
     ]
    }
   ],
   "source": [
    "# determine the survival status of members of families\n",
    "\n",
    "all_survived = []\n",
    "all_dead = []\n",
    "combined = []\n",
    "surname = df_train[df_train.duplicated(subset='Surname', keep=False)].Surname.unique()\n",
    "\n",
    "for s in surname:\n",
    "    x = df_train[(df_train['Surname']==s) & ((df_train.Title=='Master') | (df_train.Sex=='female'))]\n",
    "    if x.shape[0] >= 2:\n",
    "        if x['Survived'].all():\n",
    "            all_survived.append(s)\n",
    "        elif not x['Survived'].any():\n",
    "            all_dead.append(s)\n",
    "        else:\n",
    "            combined.append(s)\n",
    "\n",
    "print('Family who all survived      :', sorted(all_survived), '\\n')\n",
    "print('Family who are all dead      :', sorted(all_dead), '\\n')\n",
    "print('Family both survived and dead:', sorted(combined), '\\n')\n",
    "\n",
    "for s in combined:\n",
    "    print(df_train[(df_train['Surname']==s) & ((df_train.Title=='Master') | (df_train.Sex=='female'))] \\\n",
    "          [['Survived', 'Sex', 'Title', 'Surname']])"
   ]
  },
  {
   "cell_type": "markdown",
   "metadata": {},
   "source": [
    "'Master' and 'female' tend to either survive or die together!!! In fact, only 4 people in the training dataset who violate this condition."
   ]
  },
  {
   "cell_type": "code",
   "execution_count": 22,
   "metadata": {},
   "outputs": [],
   "source": [
    "# concatenate\n",
    "\n",
    "df_train = df_train.set_index('PassengerId')\n",
    "df_test = df_test.set_index('PassengerId')\n",
    "df = pd.concat([df_train, df_test], axis=0, sort=False)"
   ]
  },
  {
   "cell_type": "code",
   "execution_count": 23,
   "metadata": {},
   "outputs": [],
   "source": [
    "# feature engineering\n",
    "\n",
    "df['IsWomanOrChild'] = (df.Title == 'Master') | (df.Sex == 'female')\n",
    "family = df.groupby('Surname').Survived\n",
    "df['FamilyTotalCount'] = family.transform(lambda s: s[df.IsWomanOrChild].fillna(0).count())\n",
    "df['FamilyTotalCount'] = df.mask(df.IsWomanOrChild, df.FamilyTotalCount - 1, axis=0)\n",
    "df['FamilySurvivedCount'] = family.transform(lambda s: s[df.IsWomanOrChild].fillna(0).sum())\n",
    "df['FamilySurvivedCount'] = df.mask(df.IsWomanOrChild, df.FamilySurvivedCount - df.Survived.fillna(0), axis=0)\n",
    "df['FamilySurvivalRate'] = df.FamilySurvivedCount / df.FamilyTotalCount.replace(0, np.nan)\n",
    "df['IsSingleTraveler'] = df.FamilyTotalCount == 0"
   ]
  },
  {
   "cell_type": "markdown",
   "metadata": {},
   "source": [
    "Confused?\n",
    "\n",
    "The first line of code for 'FamilyTotalCount' calculates the number of 'Master' and 'female' in each family, and assign this number to each family member. The fillna method is used to include 'Master' and 'female' in test dataset as well.\n",
    "\n",
    "The second line of code for 'FamilyTotalCount' assigns the number of 'Master' and 'female' that a 'Master' or 'female' has in his/her family, and assigns 'Survived' value for each 'non-Master male' row. This calculation is applied for each family.\n",
    "\n",
    "The similar approach applies for 'FamilySurvivedCount'.\n",
    "\n",
    "'IsSingleTraveler' separates 'Master' and 'female' who travels alone and non-survivors from other passengers."
   ]
  },
  {
   "cell_type": "code",
   "execution_count": 24,
   "metadata": {},
   "outputs": [
    {
     "data": {
      "text/html": [
       "<div>\n",
       "<style scoped>\n",
       "    .dataframe tbody tr th:only-of-type {\n",
       "        vertical-align: middle;\n",
       "    }\n",
       "\n",
       "    .dataframe tbody tr th {\n",
       "        vertical-align: top;\n",
       "    }\n",
       "\n",
       "    .dataframe thead th {\n",
       "        text-align: right;\n",
       "    }\n",
       "</style>\n",
       "<table border=\"1\" class=\"dataframe\">\n",
       "  <thead>\n",
       "    <tr style=\"text-align: right;\">\n",
       "      <th></th>\n",
       "      <th>Surname</th>\n",
       "      <th>IsWomanOrChild</th>\n",
       "      <th>FamilyTotalCount</th>\n",
       "      <th>FamilySurvivedCount</th>\n",
       "      <th>Survived</th>\n",
       "    </tr>\n",
       "    <tr>\n",
       "      <th>PassengerId</th>\n",
       "      <th></th>\n",
       "      <th></th>\n",
       "      <th></th>\n",
       "      <th></th>\n",
       "      <th></th>\n",
       "    </tr>\n",
       "  </thead>\n",
       "  <tbody>\n",
       "    <tr>\n",
       "      <th>846</th>\n",
       "      <td>Abbing</td>\n",
       "      <td>False</td>\n",
       "      <td>0</td>\n",
       "      <td>0</td>\n",
       "      <td>0.0</td>\n",
       "    </tr>\n",
       "    <tr>\n",
       "      <th>1284</th>\n",
       "      <td>Abbott</td>\n",
       "      <td>True</td>\n",
       "      <td>1</td>\n",
       "      <td>1</td>\n",
       "      <td>NaN</td>\n",
       "    </tr>\n",
       "    <tr>\n",
       "      <th>747</th>\n",
       "      <td>Abbott</td>\n",
       "      <td>False</td>\n",
       "      <td>0</td>\n",
       "      <td>0</td>\n",
       "      <td>0.0</td>\n",
       "    </tr>\n",
       "    <tr>\n",
       "      <th>280</th>\n",
       "      <td>Abbott</td>\n",
       "      <td>True</td>\n",
       "      <td>1</td>\n",
       "      <td>0</td>\n",
       "      <td>1.0</td>\n",
       "    </tr>\n",
       "    <tr>\n",
       "      <th>949</th>\n",
       "      <td>Abelseth</td>\n",
       "      <td>False</td>\n",
       "      <td>NaN</td>\n",
       "      <td>NaN</td>\n",
       "      <td>NaN</td>\n",
       "    </tr>\n",
       "    <tr>\n",
       "      <th>1237</th>\n",
       "      <td>Abelseth</td>\n",
       "      <td>True</td>\n",
       "      <td>0</td>\n",
       "      <td>0</td>\n",
       "      <td>NaN</td>\n",
       "    </tr>\n",
       "    <tr>\n",
       "      <th>309</th>\n",
       "      <td>Abelson</td>\n",
       "      <td>False</td>\n",
       "      <td>0</td>\n",
       "      <td>0</td>\n",
       "      <td>0.0</td>\n",
       "    </tr>\n",
       "    <tr>\n",
       "      <th>875</th>\n",
       "      <td>Abelson</td>\n",
       "      <td>True</td>\n",
       "      <td>0</td>\n",
       "      <td>0</td>\n",
       "      <td>1.0</td>\n",
       "    </tr>\n",
       "    <tr>\n",
       "      <th>1143</th>\n",
       "      <td>Abrahamsson</td>\n",
       "      <td>False</td>\n",
       "      <td>NaN</td>\n",
       "      <td>NaN</td>\n",
       "      <td>NaN</td>\n",
       "    </tr>\n",
       "    <tr>\n",
       "      <th>900</th>\n",
       "      <td>Abrahim</td>\n",
       "      <td>True</td>\n",
       "      <td>0</td>\n",
       "      <td>0</td>\n",
       "      <td>NaN</td>\n",
       "    </tr>\n",
       "    <tr>\n",
       "      <th>366</th>\n",
       "      <td>Adahl</td>\n",
       "      <td>False</td>\n",
       "      <td>0</td>\n",
       "      <td>0</td>\n",
       "      <td>0.0</td>\n",
       "    </tr>\n",
       "    <tr>\n",
       "      <th>402</th>\n",
       "      <td>Adams</td>\n",
       "      <td>False</td>\n",
       "      <td>0</td>\n",
       "      <td>0</td>\n",
       "      <td>0.0</td>\n",
       "    </tr>\n",
       "    <tr>\n",
       "      <th>41</th>\n",
       "      <td>Ahlin</td>\n",
       "      <td>True</td>\n",
       "      <td>0</td>\n",
       "      <td>0</td>\n",
       "      <td>0.0</td>\n",
       "    </tr>\n",
       "    <tr>\n",
       "      <th>1199</th>\n",
       "      <td>Aks</td>\n",
       "      <td>True</td>\n",
       "      <td>1</td>\n",
       "      <td>1</td>\n",
       "      <td>NaN</td>\n",
       "    </tr>\n",
       "    <tr>\n",
       "      <th>856</th>\n",
       "      <td>Aks</td>\n",
       "      <td>True</td>\n",
       "      <td>1</td>\n",
       "      <td>0</td>\n",
       "      <td>1.0</td>\n",
       "    </tr>\n",
       "    <tr>\n",
       "      <th>208</th>\n",
       "      <td>Albimona</td>\n",
       "      <td>False</td>\n",
       "      <td>1</td>\n",
       "      <td>1</td>\n",
       "      <td>1.0</td>\n",
       "    </tr>\n",
       "    <tr>\n",
       "      <th>970</th>\n",
       "      <td>Aldworth</td>\n",
       "      <td>False</td>\n",
       "      <td>NaN</td>\n",
       "      <td>NaN</td>\n",
       "      <td>NaN</td>\n",
       "    </tr>\n",
       "    <tr>\n",
       "      <th>811</th>\n",
       "      <td>Alexander</td>\n",
       "      <td>False</td>\n",
       "      <td>0</td>\n",
       "      <td>0</td>\n",
       "      <td>0.0</td>\n",
       "    </tr>\n",
       "    <tr>\n",
       "      <th>841</th>\n",
       "      <td>Alhomaki</td>\n",
       "      <td>False</td>\n",
       "      <td>0</td>\n",
       "      <td>0</td>\n",
       "      <td>0.0</td>\n",
       "    </tr>\n",
       "    <tr>\n",
       "      <th>211</th>\n",
       "      <td>Ali</td>\n",
       "      <td>False</td>\n",
       "      <td>0</td>\n",
       "      <td>0</td>\n",
       "      <td>0.0</td>\n",
       "    </tr>\n",
       "    <tr>\n",
       "      <th>785</th>\n",
       "      <td>Ali</td>\n",
       "      <td>False</td>\n",
       "      <td>0</td>\n",
       "      <td>0</td>\n",
       "      <td>0.0</td>\n",
       "    </tr>\n",
       "    <tr>\n",
       "      <th>731</th>\n",
       "      <td>Allen</td>\n",
       "      <td>True</td>\n",
       "      <td>0</td>\n",
       "      <td>0</td>\n",
       "      <td>1.0</td>\n",
       "    </tr>\n",
       "    <tr>\n",
       "      <th>5</th>\n",
       "      <td>Allen</td>\n",
       "      <td>False</td>\n",
       "      <td>0</td>\n",
       "      <td>0</td>\n",
       "      <td>0.0</td>\n",
       "    </tr>\n",
       "    <tr>\n",
       "      <th>499</th>\n",
       "      <td>Allison</td>\n",
       "      <td>True</td>\n",
       "      <td>2</td>\n",
       "      <td>1</td>\n",
       "      <td>0.0</td>\n",
       "    </tr>\n",
       "    <tr>\n",
       "      <th>306</th>\n",
       "      <td>Allison</td>\n",
       "      <td>True</td>\n",
       "      <td>2</td>\n",
       "      <td>0</td>\n",
       "      <td>1.0</td>\n",
       "    </tr>\n",
       "    <tr>\n",
       "      <th>1198</th>\n",
       "      <td>Allison</td>\n",
       "      <td>False</td>\n",
       "      <td>NaN</td>\n",
       "      <td>NaN</td>\n",
       "      <td>NaN</td>\n",
       "    </tr>\n",
       "    <tr>\n",
       "      <th>298</th>\n",
       "      <td>Allison</td>\n",
       "      <td>True</td>\n",
       "      <td>2</td>\n",
       "      <td>1</td>\n",
       "      <td>0.0</td>\n",
       "    </tr>\n",
       "    <tr>\n",
       "      <th>835</th>\n",
       "      <td>Allum</td>\n",
       "      <td>False</td>\n",
       "      <td>0</td>\n",
       "      <td>0</td>\n",
       "      <td>0.0</td>\n",
       "    </tr>\n",
       "    <tr>\n",
       "      <th>1102</th>\n",
       "      <td>Andersen</td>\n",
       "      <td>False</td>\n",
       "      <td>NaN</td>\n",
       "      <td>NaN</td>\n",
       "      <td>NaN</td>\n",
       "    </tr>\n",
       "    <tr>\n",
       "      <th>193</th>\n",
       "      <td>Andersen-Jensen</td>\n",
       "      <td>True</td>\n",
       "      <td>0</td>\n",
       "      <td>0</td>\n",
       "      <td>1.0</td>\n",
       "    </tr>\n",
       "    <tr>\n",
       "      <th>...</th>\n",
       "      <td>...</td>\n",
       "      <td>...</td>\n",
       "      <td>...</td>\n",
       "      <td>...</td>\n",
       "      <td>...</td>\n",
       "    </tr>\n",
       "    <tr>\n",
       "      <th>492</th>\n",
       "      <td>Windelov</td>\n",
       "      <td>False</td>\n",
       "      <td>0</td>\n",
       "      <td>0</td>\n",
       "      <td>0.0</td>\n",
       "    </tr>\n",
       "    <tr>\n",
       "      <th>895</th>\n",
       "      <td>Wirz</td>\n",
       "      <td>False</td>\n",
       "      <td>NaN</td>\n",
       "      <td>NaN</td>\n",
       "      <td>NaN</td>\n",
       "    </tr>\n",
       "    <tr>\n",
       "      <th>426</th>\n",
       "      <td>Wiseman</td>\n",
       "      <td>False</td>\n",
       "      <td>0</td>\n",
       "      <td>0</td>\n",
       "      <td>0.0</td>\n",
       "    </tr>\n",
       "    <tr>\n",
       "      <th>1186</th>\n",
       "      <td>Wittevrongel</td>\n",
       "      <td>False</td>\n",
       "      <td>NaN</td>\n",
       "      <td>NaN</td>\n",
       "      <td>NaN</td>\n",
       "    </tr>\n",
       "    <tr>\n",
       "      <th>56</th>\n",
       "      <td>Woolner</td>\n",
       "      <td>False</td>\n",
       "      <td>1</td>\n",
       "      <td>1</td>\n",
       "      <td>1.0</td>\n",
       "    </tr>\n",
       "    <tr>\n",
       "      <th>1054</th>\n",
       "      <td>Wright</td>\n",
       "      <td>True</td>\n",
       "      <td>0</td>\n",
       "      <td>0</td>\n",
       "      <td>NaN</td>\n",
       "    </tr>\n",
       "    <tr>\n",
       "      <th>556</th>\n",
       "      <td>Wright</td>\n",
       "      <td>False</td>\n",
       "      <td>0</td>\n",
       "      <td>0</td>\n",
       "      <td>0.0</td>\n",
       "    </tr>\n",
       "    <tr>\n",
       "      <th>621</th>\n",
       "      <td>Yasbeck</td>\n",
       "      <td>False</td>\n",
       "      <td>0</td>\n",
       "      <td>0</td>\n",
       "      <td>0.0</td>\n",
       "    </tr>\n",
       "    <tr>\n",
       "      <th>831</th>\n",
       "      <td>Yasbeck</td>\n",
       "      <td>True</td>\n",
       "      <td>0</td>\n",
       "      <td>0</td>\n",
       "      <td>1.0</td>\n",
       "    </tr>\n",
       "    <tr>\n",
       "      <th>326</th>\n",
       "      <td>Young</td>\n",
       "      <td>True</td>\n",
       "      <td>0</td>\n",
       "      <td>0</td>\n",
       "      <td>1.0</td>\n",
       "    </tr>\n",
       "    <tr>\n",
       "      <th>204</th>\n",
       "      <td>Youseff</td>\n",
       "      <td>False</td>\n",
       "      <td>0</td>\n",
       "      <td>0</td>\n",
       "      <td>0.0</td>\n",
       "    </tr>\n",
       "    <tr>\n",
       "      <th>355</th>\n",
       "      <td>Yousif</td>\n",
       "      <td>False</td>\n",
       "      <td>0</td>\n",
       "      <td>0</td>\n",
       "      <td>0.0</td>\n",
       "    </tr>\n",
       "    <tr>\n",
       "      <th>496</th>\n",
       "      <td>Yousseff</td>\n",
       "      <td>False</td>\n",
       "      <td>0</td>\n",
       "      <td>0</td>\n",
       "      <td>0.0</td>\n",
       "    </tr>\n",
       "    <tr>\n",
       "      <th>200</th>\n",
       "      <td>Yrois</td>\n",
       "      <td>True</td>\n",
       "      <td>0</td>\n",
       "      <td>0</td>\n",
       "      <td>0.0</td>\n",
       "    </tr>\n",
       "    <tr>\n",
       "      <th>241</th>\n",
       "      <td>Zabour</td>\n",
       "      <td>True</td>\n",
       "      <td>1</td>\n",
       "      <td>0</td>\n",
       "      <td>0.0</td>\n",
       "    </tr>\n",
       "    <tr>\n",
       "      <th>112</th>\n",
       "      <td>Zabour</td>\n",
       "      <td>True</td>\n",
       "      <td>1</td>\n",
       "      <td>0</td>\n",
       "      <td>0.0</td>\n",
       "    </tr>\n",
       "    <tr>\n",
       "      <th>1063</th>\n",
       "      <td>Zakarian</td>\n",
       "      <td>False</td>\n",
       "      <td>NaN</td>\n",
       "      <td>NaN</td>\n",
       "      <td>NaN</td>\n",
       "    </tr>\n",
       "    <tr>\n",
       "      <th>1028</th>\n",
       "      <td>Zakarian</td>\n",
       "      <td>False</td>\n",
       "      <td>NaN</td>\n",
       "      <td>NaN</td>\n",
       "      <td>NaN</td>\n",
       "    </tr>\n",
       "    <tr>\n",
       "      <th>423</th>\n",
       "      <td>Zimmerman</td>\n",
       "      <td>False</td>\n",
       "      <td>0</td>\n",
       "      <td>0</td>\n",
       "      <td>0.0</td>\n",
       "    </tr>\n",
       "    <tr>\n",
       "      <th>1228</th>\n",
       "      <td>de Brito</td>\n",
       "      <td>False</td>\n",
       "      <td>NaN</td>\n",
       "      <td>NaN</td>\n",
       "      <td>NaN</td>\n",
       "    </tr>\n",
       "    <tr>\n",
       "      <th>1152</th>\n",
       "      <td>de Messemaeker</td>\n",
       "      <td>False</td>\n",
       "      <td>NaN</td>\n",
       "      <td>NaN</td>\n",
       "      <td>NaN</td>\n",
       "    </tr>\n",
       "    <tr>\n",
       "      <th>560</th>\n",
       "      <td>de Messemaeker</td>\n",
       "      <td>True</td>\n",
       "      <td>0</td>\n",
       "      <td>0</td>\n",
       "      <td>1.0</td>\n",
       "    </tr>\n",
       "    <tr>\n",
       "      <th>287</th>\n",
       "      <td>de Mulder</td>\n",
       "      <td>False</td>\n",
       "      <td>1</td>\n",
       "      <td>1</td>\n",
       "      <td>1.0</td>\n",
       "    </tr>\n",
       "    <tr>\n",
       "      <th>283</th>\n",
       "      <td>de Pelsmaeker</td>\n",
       "      <td>False</td>\n",
       "      <td>0</td>\n",
       "      <td>0</td>\n",
       "      <td>0.0</td>\n",
       "    </tr>\n",
       "    <tr>\n",
       "      <th>907</th>\n",
       "      <td>del Carlo</td>\n",
       "      <td>True</td>\n",
       "      <td>0</td>\n",
       "      <td>0</td>\n",
       "      <td>NaN</td>\n",
       "    </tr>\n",
       "    <tr>\n",
       "      <th>362</th>\n",
       "      <td>del Carlo</td>\n",
       "      <td>False</td>\n",
       "      <td>0</td>\n",
       "      <td>0</td>\n",
       "      <td>0.0</td>\n",
       "    </tr>\n",
       "    <tr>\n",
       "      <th>154</th>\n",
       "      <td>van Billiard</td>\n",
       "      <td>False</td>\n",
       "      <td>0</td>\n",
       "      <td>0</td>\n",
       "      <td>0.0</td>\n",
       "    </tr>\n",
       "    <tr>\n",
       "      <th>1236</th>\n",
       "      <td>van Billiard</td>\n",
       "      <td>True</td>\n",
       "      <td>1</td>\n",
       "      <td>0</td>\n",
       "      <td>NaN</td>\n",
       "    </tr>\n",
       "    <tr>\n",
       "      <th>1084</th>\n",
       "      <td>van Billiard</td>\n",
       "      <td>True</td>\n",
       "      <td>1</td>\n",
       "      <td>0</td>\n",
       "      <td>NaN</td>\n",
       "    </tr>\n",
       "    <tr>\n",
       "      <th>869</th>\n",
       "      <td>van Melkebeke</td>\n",
       "      <td>False</td>\n",
       "      <td>0</td>\n",
       "      <td>0</td>\n",
       "      <td>0.0</td>\n",
       "    </tr>\n",
       "  </tbody>\n",
       "</table>\n",
       "<p>1309 rows × 5 columns</p>\n",
       "</div>"
      ],
      "text/plain": [
       "                     Surname  IsWomanOrChild FamilyTotalCount  \\\n",
       "PassengerId                                                     \n",
       "846                   Abbing           False                0   \n",
       "1284                  Abbott            True                1   \n",
       "747                   Abbott           False                0   \n",
       "280                   Abbott            True                1   \n",
       "949                 Abelseth           False              NaN   \n",
       "1237                Abelseth            True                0   \n",
       "309                  Abelson           False                0   \n",
       "875                  Abelson            True                0   \n",
       "1143             Abrahamsson           False              NaN   \n",
       "900                  Abrahim            True                0   \n",
       "366                    Adahl           False                0   \n",
       "402                    Adams           False                0   \n",
       "41                     Ahlin            True                0   \n",
       "1199                     Aks            True                1   \n",
       "856                      Aks            True                1   \n",
       "208                 Albimona           False                1   \n",
       "970                 Aldworth           False              NaN   \n",
       "811                Alexander           False                0   \n",
       "841                 Alhomaki           False                0   \n",
       "211                      Ali           False                0   \n",
       "785                      Ali           False                0   \n",
       "731                    Allen            True                0   \n",
       "5                      Allen           False                0   \n",
       "499                  Allison            True                2   \n",
       "306                  Allison            True                2   \n",
       "1198                 Allison           False              NaN   \n",
       "298                  Allison            True                2   \n",
       "835                    Allum           False                0   \n",
       "1102                Andersen           False              NaN   \n",
       "193          Andersen-Jensen            True                0   \n",
       "...                      ...             ...              ...   \n",
       "492                 Windelov           False                0   \n",
       "895                     Wirz           False              NaN   \n",
       "426                  Wiseman           False                0   \n",
       "1186            Wittevrongel           False              NaN   \n",
       "56                   Woolner           False                1   \n",
       "1054                  Wright            True                0   \n",
       "556                   Wright           False                0   \n",
       "621                  Yasbeck           False                0   \n",
       "831                  Yasbeck            True                0   \n",
       "326                    Young            True                0   \n",
       "204                  Youseff           False                0   \n",
       "355                   Yousif           False                0   \n",
       "496                 Yousseff           False                0   \n",
       "200                    Yrois            True                0   \n",
       "241                   Zabour            True                1   \n",
       "112                   Zabour            True                1   \n",
       "1063                Zakarian           False              NaN   \n",
       "1028                Zakarian           False              NaN   \n",
       "423                Zimmerman           False                0   \n",
       "1228                de Brito           False              NaN   \n",
       "1152          de Messemaeker           False              NaN   \n",
       "560           de Messemaeker            True                0   \n",
       "287                de Mulder           False                1   \n",
       "283            de Pelsmaeker           False                0   \n",
       "907                del Carlo            True                0   \n",
       "362                del Carlo           False                0   \n",
       "154             van Billiard           False                0   \n",
       "1236            van Billiard            True                1   \n",
       "1084            van Billiard            True                1   \n",
       "869            van Melkebeke           False                0   \n",
       "\n",
       "            FamilySurvivedCount  Survived  \n",
       "PassengerId                                \n",
       "846                           0       0.0  \n",
       "1284                          1       NaN  \n",
       "747                           0       0.0  \n",
       "280                           0       1.0  \n",
       "949                         NaN       NaN  \n",
       "1237                          0       NaN  \n",
       "309                           0       0.0  \n",
       "875                           0       1.0  \n",
       "1143                        NaN       NaN  \n",
       "900                           0       NaN  \n",
       "366                           0       0.0  \n",
       "402                           0       0.0  \n",
       "41                            0       0.0  \n",
       "1199                          1       NaN  \n",
       "856                           0       1.0  \n",
       "208                           1       1.0  \n",
       "970                         NaN       NaN  \n",
       "811                           0       0.0  \n",
       "841                           0       0.0  \n",
       "211                           0       0.0  \n",
       "785                           0       0.0  \n",
       "731                           0       1.0  \n",
       "5                             0       0.0  \n",
       "499                           1       0.0  \n",
       "306                           0       1.0  \n",
       "1198                        NaN       NaN  \n",
       "298                           1       0.0  \n",
       "835                           0       0.0  \n",
       "1102                        NaN       NaN  \n",
       "193                           0       1.0  \n",
       "...                         ...       ...  \n",
       "492                           0       0.0  \n",
       "895                         NaN       NaN  \n",
       "426                           0       0.0  \n",
       "1186                        NaN       NaN  \n",
       "56                            1       1.0  \n",
       "1054                          0       NaN  \n",
       "556                           0       0.0  \n",
       "621                           0       0.0  \n",
       "831                           0       1.0  \n",
       "326                           0       1.0  \n",
       "204                           0       0.0  \n",
       "355                           0       0.0  \n",
       "496                           0       0.0  \n",
       "200                           0       0.0  \n",
       "241                           0       0.0  \n",
       "112                           0       0.0  \n",
       "1063                        NaN       NaN  \n",
       "1028                        NaN       NaN  \n",
       "423                           0       0.0  \n",
       "1228                        NaN       NaN  \n",
       "1152                        NaN       NaN  \n",
       "560                           0       1.0  \n",
       "287                           1       1.0  \n",
       "283                           0       0.0  \n",
       "907                           0       NaN  \n",
       "362                           0       0.0  \n",
       "154                           0       0.0  \n",
       "1236                          0       NaN  \n",
       "1084                          0       NaN  \n",
       "869                           0       0.0  \n",
       "\n",
       "[1309 rows x 5 columns]"
      ]
     },
     "execution_count": 24,
     "metadata": {},
     "output_type": "execute_result"
    }
   ],
   "source": [
    "# sneak peek at the data\n",
    "\n",
    "df[['Surname', 'IsWomanOrChild', 'FamilyTotalCount', 'FamilySurvivedCount', 'Survived']].sort_values('Surname')"
   ]
  },
  {
   "cell_type": "code",
   "execution_count": 25,
   "metadata": {},
   "outputs": [],
   "source": [
    "# feature selection\n",
    "\n",
    "x = pd.concat([df.FamilySurvivalRate.fillna(0),\n",
    "               df.IsSingleTraveler,\n",
    "               df.Sex.replace({'male': 0, 'female': 1})],\n",
    "              axis=1)\n",
    "\n",
    "train_x, test_x = x.loc[df_train.index], x.loc[df_test.index]\n",
    "train_y = df.Survived.loc[df_train.index]"
   ]
  },
  {
   "cell_type": "code",
   "execution_count": 26,
   "metadata": {},
   "outputs": [
    {
     "name": "stdout",
     "output_type": "stream",
     "text": [
      "{'criterion': 'gini', 'max_depth': 3}\n",
      "0.9214365881032548\n"
     ]
    }
   ],
   "source": [
    "# build and fit a Decision Tree\n",
    "\n",
    "clf = tree.DecisionTreeClassifier()\n",
    "grid = GridSearchCV(clf, cv=5, param_grid={\n",
    "    'criterion': ['gini', 'entropy'], \n",
    "    'max_depth': [2, 3, 4, 5]})\n",
    "grid.fit(train_x, train_y)\n",
    "print(grid.best_params_)\n",
    "print(grid.best_score_)\n",
    "model = grid.best_estimator_"
   ]
  },
  {
   "cell_type": "code",
   "execution_count": 27,
   "metadata": {},
   "outputs": [
    {
     "name": "stdout",
     "output_type": "stream",
     "text": [
      "LB score: 0.83253\n"
     ]
    }
   ],
   "source": [
    "# predict\n",
    "\n",
    "test_y = model.predict(test_x).astype(int)\n",
    "output = pd.DataFrame({'PassengerId':df_test.index, 'Survived':test_y})\n",
    "output.to_csv('master & female.csv', index=False)\n",
    "print('LB score: 0.83253')"
   ]
  }
 ],
 "metadata": {
  "kernelspec": {
   "display_name": "Python 3",
   "language": "python",
   "name": "python3"
  },
  "language_info": {
   "codemirror_mode": {
    "name": "ipython",
    "version": 3
   },
   "file_extension": ".py",
   "mimetype": "text/x-python",
   "name": "python",
   "nbconvert_exporter": "python",
   "pygments_lexer": "ipython3",
   "version": "3.7.3"
  }
 },
 "nbformat": 4,
 "nbformat_minor": 2
}
